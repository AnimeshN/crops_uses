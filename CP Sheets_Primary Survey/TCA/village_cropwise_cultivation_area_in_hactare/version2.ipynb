{
 "cells": [
  {
   "cell_type": "code",
   "execution_count": 203,
   "metadata": {},
   "outputs": [],
   "source": [
    "kharif_1 = ['खरीप ज्वारी','बाजरी','मुग','उडिद','तीळ','सोयाबीन','मका','खरीप भुईमुग','खरीप सुर्यफुल','खरीप चारा पिके','खरीप भात','नागली','वरई','वाल','Others']\n",
    "kharif_2_ = ['कांदा','मिरची','वांगे','टोमेटो','फुल कोबी','बटाटा','भेंडी','भाजीपाला','Others']\n",
    "kharif_3 = ['तूर','हळद','आले','कापूस']\n",
    "rabi_4 = ['रबी ज्वारी','हरभरा','गहू','मका','करडई','मोहोरी','रब्बी इतर गळीत','रबी भुईमुग','रबी सुर्यफुल','रबी चारा पिके','उन्हाळी भुईमुग','उन्हाळी सुर्यफुल','Others']\n",
    "rabi_5 = ['कांदा','मिरची','वांगे','टोमेटो','फुल कोबी','बटाटा','भेंडी','भाजीपाला']\n",
    "summer_7 = rabi_5\n",
    "annual_8 = ['आंबा','काजू','नारळ','सीताफळ','सुपारी','चिकू','पेरू','बोर','द्राक्ष','केळी','डाळिंब','लिंबू वर्गीय झाडे (संत्र, मोसंबी इ.)','ऊस (आडसाली) - जानेवारी पेरणी','ऊस (सुरु) - जानेवारी पेरणी','ऊस (पूर्व हंगामी) - ऑक्टोबर','Others']"
   ]
  },
  {
   "cell_type": "code",
   "execution_count": 204,
   "metadata": {},
   "outputs": [
    {
     "name": "stdout",
     "output_type": "stream",
     "text": [
      "Bhatwadi Bhatwadi_TCA\n",
      "Chandrapur Chandrapur CP_TCA\n",
      "Dapur Dapur_TCA\n",
      "Dattanagar Dattanagar_TCA\n",
      "Dhondbar Dhondbar CP_TCA\n",
      "Dhondvirnagar Dhondvirnagar_TCA\n",
      "Eklahare Basic Info _ CP Data Eklahare_TCA\n",
      "Fardapur Basic Info _ CP Data Fardapur_TCA\n",
      "Gonde Gonde_TCA\n",
      "Gulvanch Gulwanch_TCA\n",
      "Gurewadi Gurewadi CP_TCA\n",
      "Harsule Harsule_TCA\n",
      "Jamgaon Jamgaon CP_TCA\n",
      "Khadangali Basic Info _ CP Data Khadangali_TCA\n",
      "Khambale Basic Info _ CP Data Khambale_TCA\n",
      "Khopadi Bk. Basic Info _ CP Data Khopadi Budruk_TCA\n",
      "Khopadi Kh. Basic Info _ CP Data Khopadi Khurd_TCA\n",
      "Krishnanagar Krishnanagar CP_TCA\n",
      "Kundewadi Majre Kundewadi_TCA\n",
      "Maparwadi Maparwadi_TCA\n",
      "Mendhi Basic Info _ CP Data Mendi_TCA\n",
      "Musalgaon Musalgaon_TCA\n",
      "Nimgaon Sinner Basic Info _ CP Data Nimgaon_TCA\n",
      "Panchale Basic Info _ CP Data Panchale_TCA\n",
      "Paste Paste_TCA\n",
      "Pimpalgaon Basic Info _ CP Data Pimpalgaon_TCA\n",
      "Sangavi Basic Info _ CP Data Sangvi_TCA\n",
      "Shahapur Basic Info _ CP Data Shahapur_TCA\n",
      "Shastrinagar (Lonarwadi) Shastrinagar_TCA\n",
      "Somthane Basic Info _ CP Data Somathane_TCA\n",
      "Sonambe Sonambe_TCA\n",
      "Sonari Sonari_TCA\n",
      "Vadangali Basic Info _ CP Data Vadangali_TCA\n",
      "Wadgaon Sinnar Wadgaon Sinnar CP_TCA\n"
     ]
    }
   ],
   "source": [
    "import pandas as pd\n",
    "\n",
    "directory = pd.read_csv('dictionary.csv')\n",
    "years = [2018,2013,2008,2003,1998]\n",
    "for ind in directory.index: \n",
    "     print(directory['Village'][ind], directory['filename'][ind]) "
   ]
  },
  {
   "cell_type": "code",
   "execution_count": 205,
   "metadata": {},
   "outputs": [],
   "source": [
    "file = directory['filename'][1]\n",
    "v_name = directory['Village'][1]"
   ]
  },
  {
   "cell_type": "code",
   "execution_count": 206,
   "metadata": {},
   "outputs": [],
   "source": [
    "df = pd.read_excel(file+'.xlsx', sheet_name=None) # can also index sheet by name or fetch all sheets"
   ]
  },
  {
   "cell_type": "code",
   "execution_count": 207,
   "metadata": {},
   "outputs": [],
   "source": [
    "village_name = \"Eklahare\""
   ]
  },
  {
   "cell_type": "code",
   "execution_count": 208,
   "metadata": {},
   "outputs": [],
   "source": [
    "my_df = df['2018'][['खरीप प्रमुख पिके','total_cultivable_area']].values.tolist()"
   ]
  },
  {
   "cell_type": "code",
   "execution_count": 209,
   "metadata": {},
   "outputs": [
    {
     "data": {
      "text/plain": [
       "[['खरीप भात', 137.2098],\n",
       " ['खरीप भुईमुग', 36.618],\n",
       " ['बाजरी', 41.1414],\n",
       " ['मुग, मठ, चवळी, उडिद, \\nकुलीद', 16.0473],\n",
       " ['सोयाबीन', 276.6813],\n",
       " ['खरीप भाजीपाला पिके', 'total_cultivable_area'],\n",
       " ['Others', 4.5234],\n",
       " ['कांदा', 27.4635],\n",
       " ['टोमेटो', 18.309],\n",
       " ['भाजीपाला', 22.8324],\n",
       " ['भेंडी', 9.1545],\n",
       " ['दीर्घ खरीप पिके', nan],\n",
       " ['रब्बी प्रमुख पिके', 'total_cultivable_area'],\n",
       " ['गहू', 118.9008],\n",
       " ['मका', 36.618],\n",
       " ['रबी ज्वारी', 18.309],\n",
       " ['रबी भुईमुग', 4.5234],\n",
       " ['हरभरा', 137.2098],\n",
       " ['रब्बी भाजीपाला पिके', nan],\n",
       " ['उन्हाळी प्रमुख पिके', nan],\n",
       " ['उन्हाळी भाजीपाला पिके', 'total_cultivable_area'],\n",
       " ['कांदा', 89.1756],\n",
       " ['वार्षिक व बहुवर्षीय पिके', nan]]"
      ]
     },
     "execution_count": 209,
     "metadata": {},
     "output_type": "execute_result"
    }
   ],
   "source": [
    "my_df"
   ]
  },
  {
   "cell_type": "code",
   "execution_count": 210,
   "metadata": {},
   "outputs": [],
   "source": [
    "length = len(my_df)"
   ]
  },
  {
   "cell_type": "code",
   "execution_count": 211,
   "metadata": {},
   "outputs": [
    {
     "data": {
      "text/plain": [
       "15"
      ]
     },
     "execution_count": 211,
     "metadata": {},
     "output_type": "execute_result"
    }
   ],
   "source": [
    "len(kharif_1)"
   ]
  },
  {
   "cell_type": "code",
   "execution_count": 212,
   "metadata": {},
   "outputs": [
    {
     "name": "stdout",
     "output_type": "stream",
     "text": [
      "5 11 12 18 19 20 22\n"
     ]
    }
   ],
   "source": [
    "\n",
    "for i in range(length):\n",
    "    if my_df[i][0] == 'खरीप भाजीपाला पिके':\n",
    "        a = i\n",
    "    if my_df[i][0] == 'दीर्घ खरीप पिके':\n",
    "        b = i\n",
    "    if my_df[i][0] == 'रब्बी प्रमुख पिके':\n",
    "        c = i\n",
    "    if my_df[i][0] == 'रब्बी भाजीपाला पिके':\n",
    "        d = i\n",
    "    if my_df[i][0] == 'उन्हाळी प्रमुख पिके':\n",
    "        e = i\n",
    "    if my_df[i][0] == 'उन्हाळी भाजीपाला पिके':\n",
    "        f = i\n",
    "    if my_df[i][0] == 'वार्षिक व बहुवर्षीय पिके':\n",
    "        g = i\n",
    "print(a,b,c,d,e,f,g)"
   ]
  },
  {
   "cell_type": "code",
   "execution_count": 213,
   "metadata": {},
   "outputs": [],
   "source": [
    "K1,K2,K3,R4,R5,S6,S7,A8 = [],[],[],[],[],[],[],[]\n",
    "for i in range(length):\n",
    "    if i < a:\n",
    "        K1.append([my_df[i][0],my_df[i][1]])\n",
    "    elif (i > a and i < b):\n",
    "        K2.append([my_df[i][0],my_df[i][1]])\n",
    "    elif (i > b and i < c):\n",
    "        K3.append([my_df[i][0],my_df[i][1]])\n",
    "    elif (i > c and i < d):\n",
    "        R4.append([my_df[i][0],my_df[i][1]])\n",
    "    elif (i > d and i < e):\n",
    "        R5.append([my_df[i][0],my_df[i][1]])\n",
    "    elif (i > e and i < f):\n",
    "        S6.append([my_df[i][0],my_df[i][1]])\n",
    "    elif (i > f and i < g):\n",
    "        S7.append([my_df[i][0],my_df[i][1]])\n",
    "    elif (i > g):\n",
    "        A8.append([my_df[i][0],my_df[i][1]])\n",
    "      \n",
    "    "
   ]
  },
  {
   "cell_type": "code",
   "execution_count": null,
   "metadata": {},
   "outputs": [],
   "source": []
  },
  {
   "cell_type": "code",
   "execution_count": 214,
   "metadata": {},
   "outputs": [
    {
     "name": "stdout",
     "output_type": "stream",
     "text": [
      "[['खरीप भात', 137.2098], ['खरीप भुईमुग', 36.618], ['बाजरी', 41.1414], ['मुग, मठ, चवळी, उडिद, \\nकुलीद', 16.0473], ['सोयाबीन', 276.6813]]\n"
     ]
    }
   ],
   "source": [
    "print(K1)"
   ]
  },
  {
   "cell_type": "code",
   "execution_count": 216,
   "metadata": {},
   "outputs": [
    {
     "name": "stdout",
     "output_type": "stream",
     "text": [
      "[['खरीप ज्वारी'], ['बाजरी', 41.1414], ['मुग'], ['उडिद'], ['तीळ'], ['सोयाबीन', 276.6813], ['मका'], ['खरीप भुईमुग', 36.618], ['खरीप सुर्यफुल'], ['खरीप चारा पिके'], ['खरीप भात', 137.2098], ['नागली'], ['वरई'], ['वाल'], ['Others']]\n"
     ]
    }
   ],
   "source": [
    "mymaster = [['खरीप ज्वारी'],['बाजरी'],['मुग'],['उडिद'],['तीळ'],['सोयाबीन'],['मका'],['खरीप भुईमुग'],['खरीप सुर्यफुल'],['खरीप चारा पिके'],['खरीप भात'],['नागली'],['वरई'],['वाल'],['Others']]\n",
    "for i in range(len(K1)):\n",
    "#     print(K1[i][0])\n",
    "    for j in range(len(mymaster)):\n",
    "#         print(mymaster[j][0])\n",
    "        if K1[i][0] == mymaster[j][0]:\n",
    "            mymaster[j].append(K1[i][1])\n",
    "            break\n",
    "#     print(mymaster)\n",
    "print(mymaster)"
   ]
  },
  {
   "cell_type": "code",
   "execution_count": 146,
   "metadata": {},
   "outputs": [
    {
     "name": "stdout",
     "output_type": "stream",
     "text": [
      "17\n"
     ]
    }
   ],
   "source": [
    "listlist = [village_name]\n",
    "total = 0\n",
    "for i in range(len(mymaster)):\n",
    "    if len(mymaster[i]) == 2:\n",
    "        listlist.append(mymaster[i][1])\n",
    "        total = total + mymaster[i][1]\n",
    "    else:\n",
    "        listlist.append(\"\")\n",
    "listlist.append(total)        \n",
    "print(len(listlist))"
   ]
  },
  {
   "cell_type": "code",
   "execution_count": 95,
   "metadata": {},
   "outputs": [
    {
     "data": {
      "text/html": [
       "<div>\n",
       "<style scoped>\n",
       "    .dataframe tbody tr th:only-of-type {\n",
       "        vertical-align: middle;\n",
       "    }\n",
       "\n",
       "    .dataframe tbody tr th {\n",
       "        vertical-align: top;\n",
       "    }\n",
       "\n",
       "    .dataframe thead th {\n",
       "        text-align: right;\n",
       "    }\n",
       "</style>\n",
       "<table border=\"1\" class=\"dataframe\">\n",
       "  <thead>\n",
       "    <tr style=\"text-align: right;\">\n",
       "      <th></th>\n",
       "      <th>खरीप प्रमुख पिके</th>\n",
       "      <th>area_kharif_major_1</th>\n",
       "      <th>crop_area_per_holding_sample</th>\n",
       "      <th>total_cultivable_area</th>\n",
       "    </tr>\n",
       "  </thead>\n",
       "  <tbody>\n",
       "    <tr>\n",
       "      <th>0</th>\n",
       "      <td>खरीप ज्वारी</td>\n",
       "      <td>1</td>\n",
       "      <td>0.0331</td>\n",
       "      <td>21.8129</td>\n",
       "    </tr>\n",
       "    <tr>\n",
       "      <th>1</th>\n",
       "      <td>खरीप भुईमुग</td>\n",
       "      <td>1.25</td>\n",
       "      <td>0.0413</td>\n",
       "      <td>27.2167</td>\n",
       "    </tr>\n",
       "    <tr>\n",
       "      <th>2</th>\n",
       "      <td>बाजरी</td>\n",
       "      <td>6.25</td>\n",
       "      <td>0.2066</td>\n",
       "      <td>136.149</td>\n",
       "    </tr>\n",
       "    <tr>\n",
       "      <th>3</th>\n",
       "      <td>मका</td>\n",
       "      <td>11.25</td>\n",
       "      <td>0.3719</td>\n",
       "      <td>245.082</td>\n",
       "    </tr>\n",
       "    <tr>\n",
       "      <th>4</th>\n",
       "      <td>सोयाबीन</td>\n",
       "      <td>4</td>\n",
       "      <td>0.1322</td>\n",
       "      <td>87.1198</td>\n",
       "    </tr>\n",
       "    <tr>\n",
       "      <th>5</th>\n",
       "      <td>खरीप भाजीपाला पिके</td>\n",
       "      <td>area_kharif_vegi_2</td>\n",
       "      <td>crop_area_per_holding_sample</td>\n",
       "      <td>total_cultivable_area</td>\n",
       "    </tr>\n",
       "    <tr>\n",
       "      <th>6</th>\n",
       "      <td>Others</td>\n",
       "      <td>1</td>\n",
       "      <td>0.0331</td>\n",
       "      <td>21.8129</td>\n",
       "    </tr>\n",
       "    <tr>\n",
       "      <th>7</th>\n",
       "      <td>फ्लॉवर</td>\n",
       "      <td>0.25</td>\n",
       "      <td>0.0083</td>\n",
       "      <td>5.4697</td>\n",
       "    </tr>\n",
       "    <tr>\n",
       "      <th>8</th>\n",
       "      <td>वाटाणा</td>\n",
       "      <td>3</td>\n",
       "      <td>0.0992</td>\n",
       "      <td>65.3728</td>\n",
       "    </tr>\n",
       "    <tr>\n",
       "      <th>9</th>\n",
       "      <td>दीर्घ खरीप पिके</td>\n",
       "      <td>area_Kharif_long_3</td>\n",
       "      <td>NaN</td>\n",
       "      <td>NaN</td>\n",
       "    </tr>\n",
       "    <tr>\n",
       "      <th>10</th>\n",
       "      <td>रब्बी प्रमुख पिके</td>\n",
       "      <td>area_rabi_main_4</td>\n",
       "      <td>crop_area_per_holding_sample</td>\n",
       "      <td>total_cultivable_area</td>\n",
       "    </tr>\n",
       "    <tr>\n",
       "      <th>11</th>\n",
       "      <td>गहू</td>\n",
       "      <td>5.25</td>\n",
       "      <td>0.1736</td>\n",
       "      <td>114.402</td>\n",
       "    </tr>\n",
       "    <tr>\n",
       "      <th>12</th>\n",
       "      <td>हरभरा</td>\n",
       "      <td>1</td>\n",
       "      <td>0.0331</td>\n",
       "      <td>21.8129</td>\n",
       "    </tr>\n",
       "    <tr>\n",
       "      <th>13</th>\n",
       "      <td>रब्बी भाजीपाला पिके</td>\n",
       "      <td>area_rabi_vegi_5</td>\n",
       "      <td>crop_area_per_holding_sample</td>\n",
       "      <td>total_cultivable_area</td>\n",
       "    </tr>\n",
       "    <tr>\n",
       "      <th>14</th>\n",
       "      <td>कांदा</td>\n",
       "      <td>16</td>\n",
       "      <td>0.5289</td>\n",
       "      <td>348.545</td>\n",
       "    </tr>\n",
       "    <tr>\n",
       "      <th>15</th>\n",
       "      <td>उन्हाळी प्रमुख पिके</td>\n",
       "      <td>area_summer_major_6</td>\n",
       "      <td>crop_area_per_holding_sample</td>\n",
       "      <td>total_cultivable_area</td>\n",
       "    </tr>\n",
       "    <tr>\n",
       "      <th>16</th>\n",
       "      <td></td>\n",
       "      <td>0</td>\n",
       "      <td>0</td>\n",
       "      <td>0</td>\n",
       "    </tr>\n",
       "    <tr>\n",
       "      <th>17</th>\n",
       "      <td>उन्हाळी भाजीपाला पिके</td>\n",
       "      <td>area_summer_vegi_7</td>\n",
       "      <td>NaN</td>\n",
       "      <td>NaN</td>\n",
       "    </tr>\n",
       "    <tr>\n",
       "      <th>18</th>\n",
       "      <td>वार्षिक व बहुवर्षीय पिके</td>\n",
       "      <td>area_annual_8</td>\n",
       "      <td>crop_area_per_holding_sample</td>\n",
       "      <td>total_cultivable_area</td>\n",
       "    </tr>\n",
       "    <tr>\n",
       "      <th>19</th>\n",
       "      <td>पेरू</td>\n",
       "      <td>1</td>\n",
       "      <td>0.0331</td>\n",
       "      <td>21.8129</td>\n",
       "    </tr>\n",
       "    <tr>\n",
       "      <th>20</th>\n",
       "      <td>सीताफळ</td>\n",
       "      <td>1</td>\n",
       "      <td>0.0331</td>\n",
       "      <td>21.8129</td>\n",
       "    </tr>\n",
       "  </tbody>\n",
       "</table>\n",
       "</div>"
      ],
      "text/plain": [
       "            खरीप प्रमुख पिके  area_kharif_major_1  \\\n",
       "0                खरीप ज्वारी                    1   \n",
       "1                खरीप भुईमुग                 1.25   \n",
       "2                      बाजरी                 6.25   \n",
       "3                        मका                11.25   \n",
       "4                    सोयाबीन                    4   \n",
       "5         खरीप भाजीपाला पिके   area_kharif_vegi_2   \n",
       "6                     Others                    1   \n",
       "7                     फ्लॉवर                 0.25   \n",
       "8                     वाटाणा                    3   \n",
       "9            दीर्घ खरीप पिके   area_Kharif_long_3   \n",
       "10         रब्बी प्रमुख पिके     area_rabi_main_4   \n",
       "11                       गहू                 5.25   \n",
       "12                     हरभरा                    1   \n",
       "13       रब्बी भाजीपाला पिके     area_rabi_vegi_5   \n",
       "14                     कांदा                   16   \n",
       "15       उन्हाळी प्रमुख पिके  area_summer_major_6   \n",
       "16                                              0   \n",
       "17     उन्हाळी भाजीपाला पिके   area_summer_vegi_7   \n",
       "18  वार्षिक व बहुवर्षीय पिके        area_annual_8   \n",
       "19                      पेरू                    1   \n",
       "20                    सीताफळ                    1   \n",
       "\n",
       "    crop_area_per_holding_sample  total_cultivable_area  \n",
       "0                         0.0331                21.8129  \n",
       "1                         0.0413                27.2167  \n",
       "2                         0.2066                136.149  \n",
       "3                         0.3719                245.082  \n",
       "4                         0.1322                87.1198  \n",
       "5   crop_area_per_holding_sample  total_cultivable_area  \n",
       "6                         0.0331                21.8129  \n",
       "7                         0.0083                 5.4697  \n",
       "8                         0.0992                65.3728  \n",
       "9                            NaN                    NaN  \n",
       "10  crop_area_per_holding_sample  total_cultivable_area  \n",
       "11                        0.1736                114.402  \n",
       "12                        0.0331                21.8129  \n",
       "13  crop_area_per_holding_sample  total_cultivable_area  \n",
       "14                        0.5289                348.545  \n",
       "15  crop_area_per_holding_sample  total_cultivable_area  \n",
       "16                             0                      0  \n",
       "17                           NaN                    NaN  \n",
       "18  crop_area_per_holding_sample  total_cultivable_area  \n",
       "19                        0.0331                21.8129  \n",
       "20                        0.0331                21.8129  "
      ]
     },
     "execution_count": 95,
     "metadata": {},
     "output_type": "execute_result"
    }
   ],
   "source": [
    "df['2018']"
   ]
  },
  {
   "cell_type": "code",
   "execution_count": 164,
   "metadata": {},
   "outputs": [],
   "source": [
    "output = pd.read_excel('Master.xlsx', sheet_name=None) # can also index sheet by name or fetch all sheets"
   ]
  },
  {
   "cell_type": "code",
   "execution_count": 165,
   "metadata": {},
   "outputs": [],
   "source": [
    "dfObj = output['Sheet1']"
   ]
  },
  {
   "cell_type": "code",
   "execution_count": null,
   "metadata": {},
   "outputs": [],
   "source": []
  },
  {
   "cell_type": "code",
   "execution_count": 166,
   "metadata": {},
   "outputs": [],
   "source": [
    "modDfObj = dfObj.append(pd.Series(listlist, index=dfObj.columns ), ignore_index=True)"
   ]
  },
  {
   "cell_type": "code",
   "execution_count": 167,
   "metadata": {},
   "outputs": [
    {
     "data": {
      "text/html": [
       "<div>\n",
       "<style scoped>\n",
       "    .dataframe tbody tr th:only-of-type {\n",
       "        vertical-align: middle;\n",
       "    }\n",
       "\n",
       "    .dataframe tbody tr th {\n",
       "        vertical-align: top;\n",
       "    }\n",
       "\n",
       "    .dataframe thead th {\n",
       "        text-align: right;\n",
       "    }\n",
       "</style>\n",
       "<table border=\"1\" class=\"dataframe\">\n",
       "  <thead>\n",
       "    <tr style=\"text-align: right;\">\n",
       "      <th></th>\n",
       "      <th>village_nme</th>\n",
       "      <th>खरीप ज्वारी</th>\n",
       "      <th>बाजरी</th>\n",
       "      <th>मुग, मठ, चवळी, उडिद, \\nकुलीद</th>\n",
       "      <th>तीळ</th>\n",
       "      <th>सोयाबीन</th>\n",
       "      <th>मका</th>\n",
       "      <th>मका चारा</th>\n",
       "      <th>खरीप भुईमुग</th>\n",
       "      <th>खरीप सुर्यफुल</th>\n",
       "      <th>खरीप चारा पिके</th>\n",
       "      <th>खरीप भात</th>\n",
       "      <th>नागली</th>\n",
       "      <th>वरई</th>\n",
       "      <th>वाल</th>\n",
       "      <th>Others</th>\n",
       "      <th>Total Kharif</th>\n",
       "    </tr>\n",
       "  </thead>\n",
       "  <tbody>\n",
       "    <tr>\n",
       "      <th>0</th>\n",
       "      <td>Eklahare</td>\n",
       "      <td>21.8129</td>\n",
       "      <td>136.1494</td>\n",
       "      <td></td>\n",
       "      <td></td>\n",
       "      <td></td>\n",
       "      <td>87.1198</td>\n",
       "      <td>245.0821</td>\n",
       "      <td>27.2167</td>\n",
       "      <td></td>\n",
       "      <td></td>\n",
       "      <td></td>\n",
       "      <td></td>\n",
       "      <td></td>\n",
       "      <td></td>\n",
       "      <td></td>\n",
       "      <td>517.3809</td>\n",
       "    </tr>\n",
       "  </tbody>\n",
       "</table>\n",
       "</div>"
      ],
      "text/plain": [
       "  village_nme  खरीप ज्वारी     बाजरी मुग, मठ, चवळी, उडिद, \\nकुलीद तीळ सोयाबीन  \\\n",
       "0    Eklahare      21.8129  136.1494                                            \n",
       "\n",
       "       मका  मका चारा  खरीप भुईमुग खरीप सुर्यफुल खरीप चारा पिके खरीप भात नागली  \\\n",
       "0  87.1198  245.0821      27.2167                                               \n",
       "\n",
       "  वरई वाल Others  Total Kharif  \n",
       "0                     517.3809  "
      ]
     },
     "execution_count": 167,
     "metadata": {},
     "output_type": "execute_result"
    }
   ],
   "source": [
    "modDfObj"
   ]
  },
  {
   "cell_type": "code",
   "execution_count": 173,
   "metadata": {},
   "outputs": [],
   "source": [
    "modDfObj.to_excel(\"OUT/master_kharif.xlsx\")"
   ]
  },
  {
   "cell_type": "code",
   "execution_count": null,
   "metadata": {},
   "outputs": [],
   "source": []
  }
 ],
 "metadata": {
  "kernelspec": {
   "display_name": "Python 3",
   "language": "python",
   "name": "python3"
  },
  "language_info": {
   "codemirror_mode": {
    "name": "ipython",
    "version": 3
   },
   "file_extension": ".py",
   "mimetype": "text/x-python",
   "name": "python",
   "nbconvert_exporter": "python",
   "pygments_lexer": "ipython3",
   "version": "3.6.8"
  }
 },
 "nbformat": 4,
 "nbformat_minor": 2
}
